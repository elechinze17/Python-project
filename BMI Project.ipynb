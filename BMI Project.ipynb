{
 "cells": [
  {
   "cell_type": "markdown",
   "id": "dde9630e-638f-4e59-9476-c9915ff52a85",
   "metadata": {},
   "source": [
    "# BMI Calculator Project"
   ]
  },
  {
   "cell_type": "code",
   "execution_count": null,
   "id": "27ed3ac1-0d5e-4cd4-b649-88faee685267",
   "metadata": {},
   "outputs": [],
   "source": [
    "Name = input(\"Enter your name\")\n",
    "\n",
    "weight = int(input(\"Enter your weight in pounds: \"))\n",
    "\n",
    "height = int(input(\"Enter your weight in inches: \"))\n",
    "\n",
    "BMI = (weight * 703) / (height * height )\n",
    "\n",
    "print(BMI)\n",
    "\n",
    "if BMI>0:\n",
    "    if(BMI< 18.5):\n",
    "        print(Name +\", you are underweight.\")\n",
    "    elif(BMI<=24.9):\n",
    "        print(Name +\", you are Normal Weight.\")\n",
    "    elif(BMI<=29.9):\n",
    "        print(Name +\", you are overweight.\")\n",
    "    elif(BMI<=34.9):\n",
    "        print(Name +\", you are Obese.\")\n",
    "    elif(BMI<=39.9):\n",
    "        print(Name +\", you are Severly Obese.\")\n",
    "    elif(BMI >= 40):\n",
    "        print(Name +\", you are Morbidly Obese.\")\n",
    "    else:\n",
    "        print(\"Enter Valid Inputs\")"
   ]
  },
  {
   "cell_type": "code",
   "execution_count": null,
   "id": "3af11679-8668-4326-b491-00064392002d",
   "metadata": {},
   "outputs": [],
   "source": []
  },
  {
   "cell_type": "code",
   "execution_count": 4,
   "id": "e7436cec-05d8-46a1-8fac-c425371728bd",
   "metadata": {},
   "outputs": [
    {
     "name": "stdout",
     "output_type": "stream",
     "text": [
      "Elechi, you are Normal Weight.\n"
     ]
    }
   ],
   "source": []
  },
  {
   "cell_type": "code",
   "execution_count": null,
   "id": "c03f6252-cce8-4680-8490-0ec699d40ecb",
   "metadata": {},
   "outputs": [],
   "source": []
  },
  {
   "cell_type": "code",
   "execution_count": null,
   "id": "bbca62da-41ad-4139-98e4-48e3a9329193",
   "metadata": {},
   "outputs": [],
   "source": [
    "#BMI = (weight in pounds x 703) / (height in inches x height in inches)"
   ]
  },
  {
   "cell_type": "code",
   "execution_count": null,
   "id": "4aa11642-fde2-4a45-b165-2f4fa80a56ca",
   "metadata": {},
   "outputs": [],
   "source": []
  }
 ],
 "metadata": {
  "kernelspec": {
   "display_name": "Python 3 (ipykernel)",
   "language": "python",
   "name": "python3"
  },
  "language_info": {
   "codemirror_mode": {
    "name": "ipython",
    "version": 3
   },
   "file_extension": ".py",
   "mimetype": "text/x-python",
   "name": "python",
   "nbconvert_exporter": "python",
   "pygments_lexer": "ipython3",
   "version": "3.9.2"
  }
 },
 "nbformat": 4,
 "nbformat_minor": 5
}
